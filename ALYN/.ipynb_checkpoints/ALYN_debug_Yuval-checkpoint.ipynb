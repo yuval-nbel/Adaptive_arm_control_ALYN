{
 "cells": [
  {
   "cell_type": "code",
   "execution_count": 2,
   "id": "6860beff",
   "metadata": {},
   "outputs": [],
   "source": [
    "from IK import *\n",
    "\n",
    "ik_model = viper300()"
   ]
  },
  {
   "cell_type": "code",
   "execution_count": 3,
   "id": "51f24204",
   "metadata": {},
   "outputs": [
    {
     "name": "stdout",
     "output_type": "stream",
     "text": [
      "{1: 85, 2: 135, 3: 135, 4: 180, 5: 180, 6: 180, 7: 135, 8: 180, 9: 180}\n",
      "[-0.08726646259971647, 0.7853981633974483, -0.0, 3.141592653589793, 0.7853981633974483]\n"
     ]
    }
   ],
   "source": [
    "from RoboticArm import *\n",
    "\n",
    "engines_position = Robot['Real']['Home']\n",
    "joint_position = robot_to_model_position(Robot['Real']['Home'])\n",
    "\n",
    "print(engines_position)\n",
    "print(joint_position)\n"
   ]
  },
  {
   "cell_type": "code",
   "execution_count": 4,
   "id": "2e34888a",
   "metadata": {},
   "outputs": [
    {
     "name": "stdout",
     "output_type": "stream",
     "text": [
      "[0.02176447 0.24876904 0.58398337]\n"
     ]
    }
   ],
   "source": [
    "def get_xyz_numeric_3d(axis):\n",
    "    return np.array([axis[0][0],axis[1][0],axis[2][0]])\n",
    "\n",
    "axis = ik_model.get_xyz_numeric(joint_position)\n",
    "axis = get_xyz_numeric_3d(axis)\n",
    "print(axis)\n"
   ]
  },
  {
   "cell_type": "code",
   "execution_count": 5,
   "id": "356fc523",
   "metadata": {},
   "outputs": [
    {
     "name": "stdout",
     "output_type": "stream",
     "text": [
      "current:  [0.02176447 0.24876904 0.58398337]\n",
      "target:  [0.02176447107776986, 0.24876904276084583, 0]\n",
      "updated joints:  [-0.08726646  0.0875789  -0.84075855  3.14159265  0.83149743]\n",
      "updated_position:  [[0.02168162]\n",
      " [0.24782203]\n",
      " [0.0096137 ]\n",
      " [1.        ]]\n",
      "updated_engines:  {1: 85, 2: 174, 3: 174, 4: 228, 5: 228, 6: 180, 7: 132, 8: 180, 9: 180}\n",
      "steps:  39\n"
     ]
    }
   ],
   "source": [
    "position = joint_position  # [0.02176447 0.24876904 0.58398337]\n",
    "#position = [0,0,0,0,0]\n",
    "\n",
    "current = get_xyz_numeric_3d(ik_model.get_xyz_numeric(position))\n",
    "\n",
    "target = [current[0],current[1],0] #current + [0.6,0,0]\n",
    "#target = axis\n",
    "\n",
    "print(\"current: \", current)\n",
    "print(\"target: \", target)\n",
    "\n",
    "direction = target - current\n",
    "\n",
    "updated_position = position + (np.dot(np.linalg.pinv(ik_model.calc_J_numeric(position)), direction)*0.1)\n",
    "updated_current = get_xyz_numeric_3d(ik_model.get_xyz_numeric(updated_position))\n",
    "\n",
    "steps = 1\n",
    "for i in range(1000):\n",
    "    \n",
    "    error = np.sqrt(sum((target - updated_current)**2))\n",
    "    if (error > 0.01):\n",
    "        updated_direction = target - updated_current\n",
    "        updated_position = updated_position + \\\n",
    "            (np.dot(np.linalg.pinv(ik_model.calc_J_numeric(updated_position)), updated_direction) *0.1)\n",
    "        updated_current = get_xyz_numeric_3d(ik_model.get_xyz_numeric(updated_position))\n",
    "        steps += 1\n",
    "        #print(\"updated_position: \", ik_model.get_xyz_numeric(updated_position))\n",
    "        \n",
    "print(\"updated joints: \", updated_position)        \n",
    "print(\"updated_position: \", ik_model.get_xyz_numeric(updated_position))\n",
    "print(\"updated_engines: \", model_to_robot_position(updated_position))\n",
    "print(\"steps: \", steps)"
   ]
  },
  {
   "cell_type": "code",
   "execution_count": 5,
   "id": "e2d43d02",
   "metadata": {},
   "outputs": [],
   "source": [
    "# Right\n",
    "#updated_position = [-0.87153637, 0.28555479, 0.26280946, 2.76656353, 0.55529364]\n",
    "# Left\n",
    "updated_position = [0.71967176, 0.43565329, 0.1717155, 3.56469033, 0.66222707]\n",
    "# Up\n",
    "#updated_position = [-0.08726646, 0.53949013, 0.42118574, 3.14159265, 0.44366546]\n",
    "# Down\n",
    "#updated_position = [-0.08726646, 0.44049369, -0.78350468, 3.14159265, 1.04949526]"
   ]
  },
  {
   "cell_type": "code",
   "execution_count": 6,
   "id": "844e647c",
   "metadata": {},
   "outputs": [
    {
     "name": "stdout",
     "output_type": "stream",
     "text": [
      "Arm model is specified at: /home/nbel/NBEL/alyn_project/Adaptive_arm_control/Adaptive_arm_control/arm_models/NBEL/NBEL.xml\n",
      "Creating window glfw\n",
      "{0: -0.08726646259971627, 1: -0.08757889707314068, 2: 0.8407585465350386, 3: 3.141592653589793, 4: -0.83149742702596}\n"
     ]
    },
    {
     "ename": "SystemExit",
     "evalue": "0",
     "output_type": "error",
     "traceback": [
      "An exception has occurred, use %tb to see the full traceback.\n",
      "\u001b[0;31mSystemExit\u001b[0m\u001b[0;31m:\u001b[0m 0\n"
     ]
    },
    {
     "name": "stderr",
     "output_type": "stream",
     "text": [
      "/home/nbel/.local/lib/python3.8/site-packages/IPython/core/interactiveshell.py:3445: UserWarning: To exit: use 'exit', 'quit', or Ctrl-D.\n",
      "  warn(\"To exit: use 'exit', 'quit', or Ctrl-D.\", stacklevel=1)\n"
     ]
    }
   ],
   "source": [
    "from model import MuJoCo_Model as Model\n",
    "from simulation import Simulation, Controller\n",
    "\n",
    "BASE_DIR = '/home/nbel/NBEL/alyn_project/Adaptive_arm_control/Adaptive_arm_control/'\n",
    "  \n",
    "model_name = 'NBEL'\n",
    "model      = Model(BASE_DIR + 'arm_models/{}/{}.xml'.format(model_name, model_name))\n",
    "controller = Controller(model)\n",
    "\n",
    "## EE position in the physical model's configuration space\n",
    "p = [1, -1, -1, 1, -1] # y z z x z: accounting for direction of rotation\n",
    "q_dic = {i: p[i]*v for i, v in enumerate (updated_position)}\n",
    "print(q_dic)\n",
    "\n",
    "model.goto_null_position()                                  # Goto reference position\n",
    "model.send_target_angles(q_dic)                             # Manipulate model\n",
    "c = model.get_ee_position()                                 # Current position\n",
    "model.visualize()\n",
    "print(c)"
   ]
  },
  {
   "cell_type": "code",
   "execution_count": null,
   "id": "c2227cf2",
   "metadata": {},
   "outputs": [],
   "source": []
  },
  {
   "cell_type": "code",
   "execution_count": null,
   "id": "f97d1e1d",
   "metadata": {},
   "outputs": [],
   "source": []
  },
  {
   "cell_type": "code",
   "execution_count": null,
   "id": "b378cf92",
   "metadata": {},
   "outputs": [],
   "source": []
  },
  {
   "cell_type": "code",
   "execution_count": 118,
   "id": "61cafad2",
   "metadata": {},
   "outputs": [],
   "source": [
    "ik2_model = widow200()"
   ]
  },
  {
   "cell_type": "code",
   "execution_count": 41,
   "id": "8b6e947f",
   "metadata": {},
   "outputs": [
    {
     "data": {
      "text/plain": [
       "array([[0.2209 ],\n",
       "       [0.30181],\n",
       "       [0.     ],\n",
       "       [1.     ]])"
      ]
     },
     "execution_count": 41,
     "metadata": {},
     "output_type": "execute_result"
    }
   ],
   "source": [
    "position = [0,0,0,0]\n",
    "ik2_model.get_xyz_numeric(position)"
   ]
  },
  {
   "cell_type": "code",
   "execution_count": 46,
   "id": "80e2dd35",
   "metadata": {},
   "outputs": [],
   "source": [
    "updated_position = position + np.dot(np.linalg.pinv(ik2_model.calc_J_numeric(position)), [0, 0.01, 0])\n",
    "for i in range(20):\n",
    "    updated_position = updated_position + np.dot(np.linalg.pinv(ik2_model.calc_J_numeric(position)), [0, 0.01, 0])\n",
    "    "
   ]
  },
  {
   "cell_type": "code",
   "execution_count": 47,
   "id": "4d7ab437",
   "metadata": {},
   "outputs": [
    {
     "data": {
      "text/plain": [
       "array([[ 2.29016056e-01],\n",
       "       [ 4.99705502e-01],\n",
       "       [-2.14205862e-17],\n",
       "       [ 1.00000000e+00]])"
      ]
     },
     "execution_count": 47,
     "metadata": {},
     "output_type": "execute_result"
    }
   ],
   "source": [
    "ik2_model.get_xyz_numeric(updated_position)"
   ]
  },
  {
   "cell_type": "code",
   "execution_count": null,
   "id": "b726ef24",
   "metadata": {},
   "outputs": [],
   "source": []
  }
 ],
 "metadata": {
  "kernelspec": {
   "display_name": "Python 3",
   "language": "python",
   "name": "python3"
  },
  "language_info": {
   "codemirror_mode": {
    "name": "ipython",
    "version": 3
   },
   "file_extension": ".py",
   "mimetype": "text/x-python",
   "name": "python",
   "nbconvert_exporter": "python",
   "pygments_lexer": "ipython3",
   "version": "3.8.5"
  }
 },
 "nbformat": 4,
 "nbformat_minor": 5
}
