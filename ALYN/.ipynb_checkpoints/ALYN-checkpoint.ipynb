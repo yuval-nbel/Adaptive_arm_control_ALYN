{
 "cells": [
  {
   "cell_type": "code",
   "execution_count": 1,
   "metadata": {
    "scrolled": true
   },
   "outputs": [],
   "source": [
    "from RoboticArm import *\n",
    "from IK import *\n",
    "import numpy as np\n",
    "from simulation import Simulation, Controller\n",
    "#from model import MuJoCo_Model as Model\n",
    "from tmp.arm import Model"
   ]
  },
  {
   "cell_type": "markdown",
   "metadata": {},
   "source": [
    "### Arm configuration"
   ]
  },
  {
   "cell_type": "code",
   "execution_count": 2,
   "metadata": {},
   "outputs": [],
   "source": [
    "Robot = {'Real':{\n",
    "            'CMD':\n",
    "                {'Baud Rate'        : {'Address': 8, 'Value': {9600   : 0,\n",
    "                                                               57600  : 1,\n",
    "                                                               115200 : 2,\n",
    "                                                               1000000: 3,\n",
    "                                                               2000000: 4,\n",
    "                                                               3000000: 5,\n",
    "                                                               4000000: 6,\n",
    "                                                               4500000: 7}}, \n",
    "                 'Operating mode'   : {'Address': 11, 'Value': {'Torque'   : 0,\n",
    "                                                                'Velocity' : 1,\n",
    "                                                                'Position' : 3,\n",
    "                                                                'PWM'      : 16}},\n",
    "                 'Torque Enable'    : {'Address': 64, 'Value': {'OFF': 0, 'ON' : 1}},                           \n",
    "                 'LED'              : {'Address': 65, 'Value': {'OFF': 0, 'ON' : 1}},                                  \n",
    "                 'Goal Position'    : {'Address': 116},                         \n",
    "                 'Present Position' : {'Address': 132}, \n",
    "                 'Goal torque'      : {'Address': 102},\n",
    "                 'Ranges'           : {1: range (0,   360),\n",
    "                                       2: range (75,  290),\n",
    "                                       3: range (75,  290),\n",
    "                                       4: range (85,  285),\n",
    "                                       5: range (85,  285),\n",
    "                                       6: range (0,   360),\n",
    "                                       7: range (55,  275),\n",
    "                                       8: range (20,  320),\n",
    "                                       9: range (130, 260)},\n",
    "                 'Limit velocity'   : {'Address': 100, 'Value': 600}, # ranging [-885, 885]\n",
    "                 'Limit torque'     : {'Address': 38,  'Value': 250}  # ranging [-1193, 1193], 2.69mA per step, 3.210A\n",
    "                },\n",
    "             'Priority': [[4, 5], [2, 3], [1], [6], [7], [8], [9]],\n",
    "             \n",
    "             # Note that engines 2 and 5 were set to reverse mode to allow \n",
    "             # both to be configured similarly to their counterpart.\n",
    "             'Home'    : {1: 85, 2: 135, 3: 135, 4: 180, 5: 180, 6: 180, 7:135, 8:180, 9:180}}\n",
    "        } "
   ]
  },
  {
   "cell_type": "markdown",
   "metadata": {},
   "source": [
    "### Arm Control"
   ]
  },
  {
   "cell_type": "code",
   "execution_count": 3,
   "metadata": {},
   "outputs": [
    {
     "ename": "SerialException",
     "evalue": "[Errno 2] could not open port /dev/ttyUSB0: [Errno 2] No such file or directory: '/dev/ttyUSB0'",
     "output_type": "error",
     "traceback": [
      "\u001b[0;31m---------------------------------------------------------------------------\u001b[0m",
      "\u001b[0;31mFileNotFoundError\u001b[0m                         Traceback (most recent call last)",
      "\u001b[0;32m~/.local/lib/python3.8/site-packages/serial/serialposix.py\u001b[0m in \u001b[0;36mopen\u001b[0;34m(self)\u001b[0m\n\u001b[1;32m    321\u001b[0m         \u001b[0;32mtry\u001b[0m\u001b[0;34m:\u001b[0m\u001b[0;34m\u001b[0m\u001b[0;34m\u001b[0m\u001b[0m\n\u001b[0;32m--> 322\u001b[0;31m             \u001b[0mself\u001b[0m\u001b[0;34m.\u001b[0m\u001b[0mfd\u001b[0m \u001b[0;34m=\u001b[0m \u001b[0mos\u001b[0m\u001b[0;34m.\u001b[0m\u001b[0mopen\u001b[0m\u001b[0;34m(\u001b[0m\u001b[0mself\u001b[0m\u001b[0;34m.\u001b[0m\u001b[0mportstr\u001b[0m\u001b[0;34m,\u001b[0m \u001b[0mos\u001b[0m\u001b[0;34m.\u001b[0m\u001b[0mO_RDWR\u001b[0m \u001b[0;34m|\u001b[0m \u001b[0mos\u001b[0m\u001b[0;34m.\u001b[0m\u001b[0mO_NOCTTY\u001b[0m \u001b[0;34m|\u001b[0m \u001b[0mos\u001b[0m\u001b[0;34m.\u001b[0m\u001b[0mO_NONBLOCK\u001b[0m\u001b[0;34m)\u001b[0m\u001b[0;34m\u001b[0m\u001b[0;34m\u001b[0m\u001b[0m\n\u001b[0m\u001b[1;32m    323\u001b[0m         \u001b[0;32mexcept\u001b[0m \u001b[0mOSError\u001b[0m \u001b[0;32mas\u001b[0m \u001b[0mmsg\u001b[0m\u001b[0;34m:\u001b[0m\u001b[0;34m\u001b[0m\u001b[0;34m\u001b[0m\u001b[0m\n",
      "\u001b[0;31mFileNotFoundError\u001b[0m: [Errno 2] No such file or directory: '/dev/ttyUSB0'",
      "\nDuring handling of the above exception, another exception occurred:\n",
      "\u001b[0;31mSerialException\u001b[0m                           Traceback (most recent call last)",
      "\u001b[0;32m<ipython-input-3-2350ad422ce8>\u001b[0m in \u001b[0;36m<module>\u001b[0;34m\u001b[0m\n\u001b[0;32m----> 1\u001b[0;31m \u001b[0marm\u001b[0m \u001b[0;34m=\u001b[0m \u001b[0mRoboticArm\u001b[0m\u001b[0;34m(\u001b[0m\u001b[0mRobot\u001b[0m\u001b[0;34m,\u001b[0m \u001b[0mCOM_ID\u001b[0m \u001b[0;34m=\u001b[0m \u001b[0;34m'/dev/ttyUSB0'\u001b[0m\u001b[0;34m)\u001b[0m\u001b[0;34m\u001b[0m\u001b[0;34m\u001b[0m\u001b[0m\n\u001b[0m",
      "\u001b[0;32m~/NBEL/alyn_project/ALYN/RoboticArm.py\u001b[0m in \u001b[0;36m__init__\u001b[0;34m(self, CMD_dict, COM_ID, PROTOCOL_VERSION)\u001b[0m\n\u001b[1;32m     94\u001b[0m         \u001b[0mself\u001b[0m\u001b[0;34m.\u001b[0m\u001b[0mhome_position\u001b[0m \u001b[0;34m=\u001b[0m \u001b[0mCMD_dict\u001b[0m\u001b[0;34m[\u001b[0m\u001b[0;34m'Real'\u001b[0m\u001b[0;34m]\u001b[0m\u001b[0;34m[\u001b[0m\u001b[0;34m'Home'\u001b[0m\u001b[0;34m]\u001b[0m\u001b[0;34m\u001b[0m\u001b[0;34m\u001b[0m\u001b[0m\n\u001b[1;32m     95\u001b[0m \u001b[0;34m\u001b[0m\u001b[0m\n\u001b[0;32m---> 96\u001b[0;31m         \u001b[0mself\u001b[0m\u001b[0;34m.\u001b[0m\u001b[0minitialize\u001b[0m\u001b[0;34m(\u001b[0m\u001b[0mCOM_ID\u001b[0m\u001b[0;34m,\u001b[0m \u001b[0mPROTOCOL_VERSION\u001b[0m\u001b[0;34m)\u001b[0m\u001b[0;34m\u001b[0m\u001b[0;34m\u001b[0m\u001b[0m\n\u001b[0m\u001b[1;32m     97\u001b[0m \u001b[0;34m\u001b[0m\u001b[0m\n\u001b[1;32m     98\u001b[0m     \u001b[0;32mdef\u001b[0m \u001b[0minitialize\u001b[0m\u001b[0;34m(\u001b[0m\u001b[0mself\u001b[0m\u001b[0;34m,\u001b[0m \u001b[0mCOM_ID\u001b[0m\u001b[0;34m,\u001b[0m \u001b[0mPROTOCOL_VERSION\u001b[0m\u001b[0;34m)\u001b[0m\u001b[0;34m:\u001b[0m\u001b[0;34m\u001b[0m\u001b[0;34m\u001b[0m\u001b[0m\n",
      "\u001b[0;32m~/NBEL/alyn_project/ALYN/RoboticArm.py\u001b[0m in \u001b[0;36minitialize\u001b[0;34m(self, COM_ID, PROTOCOL_VERSION)\u001b[0m\n\u001b[1;32m    102\u001b[0m \u001b[0;34m\u001b[0m\u001b[0m\n\u001b[1;32m    103\u001b[0m         \u001b[0;31m# Open port\u001b[0m\u001b[0;34m\u001b[0m\u001b[0;34m\u001b[0m\u001b[0;34m\u001b[0m\u001b[0m\n\u001b[0;32m--> 104\u001b[0;31m         \u001b[0;32mif\u001b[0m \u001b[0mself\u001b[0m\u001b[0;34m.\u001b[0m\u001b[0mportHandler\u001b[0m\u001b[0;34m.\u001b[0m\u001b[0mopenPort\u001b[0m\u001b[0;34m(\u001b[0m\u001b[0;34m)\u001b[0m\u001b[0;34m:\u001b[0m\u001b[0;34m\u001b[0m\u001b[0;34m\u001b[0m\u001b[0m\n\u001b[0m\u001b[1;32m    105\u001b[0m             \u001b[0mprint\u001b[0m\u001b[0;34m(\u001b[0m\u001b[0;34m\"Succeeded to open the port\"\u001b[0m\u001b[0;34m)\u001b[0m\u001b[0;34m\u001b[0m\u001b[0;34m\u001b[0m\u001b[0m\n\u001b[1;32m    106\u001b[0m         \u001b[0;32melse\u001b[0m\u001b[0;34m:\u001b[0m\u001b[0;34m\u001b[0m\u001b[0;34m\u001b[0m\u001b[0m\n",
      "\u001b[0;32m~/.local/lib/python3.8/site-packages/dynamixel_sdk/port_handler.py\u001b[0m in \u001b[0;36mopenPort\u001b[0;34m(self)\u001b[0m\n\u001b[1;32m     42\u001b[0m \u001b[0;34m\u001b[0m\u001b[0m\n\u001b[1;32m     43\u001b[0m     \u001b[0;32mdef\u001b[0m \u001b[0mopenPort\u001b[0m\u001b[0;34m(\u001b[0m\u001b[0mself\u001b[0m\u001b[0;34m)\u001b[0m\u001b[0;34m:\u001b[0m\u001b[0;34m\u001b[0m\u001b[0;34m\u001b[0m\u001b[0m\n\u001b[0;32m---> 44\u001b[0;31m         \u001b[0;32mreturn\u001b[0m \u001b[0mself\u001b[0m\u001b[0;34m.\u001b[0m\u001b[0msetBaudRate\u001b[0m\u001b[0;34m(\u001b[0m\u001b[0mself\u001b[0m\u001b[0;34m.\u001b[0m\u001b[0mbaudrate\u001b[0m\u001b[0;34m)\u001b[0m\u001b[0;34m\u001b[0m\u001b[0;34m\u001b[0m\u001b[0m\n\u001b[0m\u001b[1;32m     45\u001b[0m \u001b[0;34m\u001b[0m\u001b[0m\n\u001b[1;32m     46\u001b[0m     \u001b[0;32mdef\u001b[0m \u001b[0mclosePort\u001b[0m\u001b[0;34m(\u001b[0m\u001b[0mself\u001b[0m\u001b[0;34m)\u001b[0m\u001b[0;34m:\u001b[0m\u001b[0;34m\u001b[0m\u001b[0;34m\u001b[0m\u001b[0m\n",
      "\u001b[0;32m~/.local/lib/python3.8/site-packages/dynamixel_sdk/port_handler.py\u001b[0m in \u001b[0;36msetBaudRate\u001b[0;34m(self, baudrate)\u001b[0m\n\u001b[1;32m     66\u001b[0m         \u001b[0;32melse\u001b[0m\u001b[0;34m:\u001b[0m\u001b[0;34m\u001b[0m\u001b[0;34m\u001b[0m\u001b[0m\n\u001b[1;32m     67\u001b[0m             \u001b[0mself\u001b[0m\u001b[0;34m.\u001b[0m\u001b[0mbaudrate\u001b[0m \u001b[0;34m=\u001b[0m \u001b[0mbaudrate\u001b[0m\u001b[0;34m\u001b[0m\u001b[0;34m\u001b[0m\u001b[0m\n\u001b[0;32m---> 68\u001b[0;31m             \u001b[0;32mreturn\u001b[0m \u001b[0mself\u001b[0m\u001b[0;34m.\u001b[0m\u001b[0msetupPort\u001b[0m\u001b[0;34m(\u001b[0m\u001b[0mbaud\u001b[0m\u001b[0;34m)\u001b[0m\u001b[0;34m\u001b[0m\u001b[0;34m\u001b[0m\u001b[0m\n\u001b[0m\u001b[1;32m     69\u001b[0m \u001b[0;34m\u001b[0m\u001b[0m\n\u001b[1;32m     70\u001b[0m     \u001b[0;32mdef\u001b[0m \u001b[0mgetBaudRate\u001b[0m\u001b[0;34m(\u001b[0m\u001b[0mself\u001b[0m\u001b[0;34m)\u001b[0m\u001b[0;34m:\u001b[0m\u001b[0;34m\u001b[0m\u001b[0;34m\u001b[0m\u001b[0m\n",
      "\u001b[0;32m~/.local/lib/python3.8/site-packages/dynamixel_sdk/port_handler.py\u001b[0m in \u001b[0;36msetupPort\u001b[0;34m(self, cflag_baud)\u001b[0m\n\u001b[1;32m    112\u001b[0m             \u001b[0mself\u001b[0m\u001b[0;34m.\u001b[0m\u001b[0mclosePort\u001b[0m\u001b[0;34m(\u001b[0m\u001b[0;34m)\u001b[0m\u001b[0;34m\u001b[0m\u001b[0;34m\u001b[0m\u001b[0m\n\u001b[1;32m    113\u001b[0m \u001b[0;34m\u001b[0m\u001b[0m\n\u001b[0;32m--> 114\u001b[0;31m         self.ser = serial.Serial(\n\u001b[0m\u001b[1;32m    115\u001b[0m             \u001b[0mport\u001b[0m\u001b[0;34m=\u001b[0m\u001b[0mself\u001b[0m\u001b[0;34m.\u001b[0m\u001b[0mport_name\u001b[0m\u001b[0;34m,\u001b[0m\u001b[0;34m\u001b[0m\u001b[0;34m\u001b[0m\u001b[0m\n\u001b[1;32m    116\u001b[0m             \u001b[0mbaudrate\u001b[0m\u001b[0;34m=\u001b[0m\u001b[0mself\u001b[0m\u001b[0;34m.\u001b[0m\u001b[0mbaudrate\u001b[0m\u001b[0;34m,\u001b[0m\u001b[0;34m\u001b[0m\u001b[0;34m\u001b[0m\u001b[0m\n",
      "\u001b[0;32m~/.local/lib/python3.8/site-packages/serial/serialutil.py\u001b[0m in \u001b[0;36m__init__\u001b[0;34m(self, port, baudrate, bytesize, parity, stopbits, timeout, xonxoff, rtscts, write_timeout, dsrdtr, inter_byte_timeout, exclusive, **kwargs)\u001b[0m\n\u001b[1;32m    242\u001b[0m \u001b[0;34m\u001b[0m\u001b[0m\n\u001b[1;32m    243\u001b[0m         \u001b[0;32mif\u001b[0m \u001b[0mport\u001b[0m \u001b[0;32mis\u001b[0m \u001b[0;32mnot\u001b[0m \u001b[0;32mNone\u001b[0m\u001b[0;34m:\u001b[0m\u001b[0;34m\u001b[0m\u001b[0;34m\u001b[0m\u001b[0m\n\u001b[0;32m--> 244\u001b[0;31m             \u001b[0mself\u001b[0m\u001b[0;34m.\u001b[0m\u001b[0mopen\u001b[0m\u001b[0;34m(\u001b[0m\u001b[0;34m)\u001b[0m\u001b[0;34m\u001b[0m\u001b[0;34m\u001b[0m\u001b[0m\n\u001b[0m\u001b[1;32m    245\u001b[0m \u001b[0;34m\u001b[0m\u001b[0m\n\u001b[1;32m    246\u001b[0m     \u001b[0;31m#  -  -  -  -  -  -  -  -  -  -  -  -  -  -  -  -  -  -  -  -  -  -  -  -\u001b[0m\u001b[0;34m\u001b[0m\u001b[0;34m\u001b[0m\u001b[0;34m\u001b[0m\u001b[0m\n",
      "\u001b[0;32m~/.local/lib/python3.8/site-packages/serial/serialposix.py\u001b[0m in \u001b[0;36mopen\u001b[0;34m(self)\u001b[0m\n\u001b[1;32m    323\u001b[0m         \u001b[0;32mexcept\u001b[0m \u001b[0mOSError\u001b[0m \u001b[0;32mas\u001b[0m \u001b[0mmsg\u001b[0m\u001b[0;34m:\u001b[0m\u001b[0;34m\u001b[0m\u001b[0;34m\u001b[0m\u001b[0m\n\u001b[1;32m    324\u001b[0m             \u001b[0mself\u001b[0m\u001b[0;34m.\u001b[0m\u001b[0mfd\u001b[0m \u001b[0;34m=\u001b[0m \u001b[0;32mNone\u001b[0m\u001b[0;34m\u001b[0m\u001b[0;34m\u001b[0m\u001b[0m\n\u001b[0;32m--> 325\u001b[0;31m             \u001b[0;32mraise\u001b[0m \u001b[0mSerialException\u001b[0m\u001b[0;34m(\u001b[0m\u001b[0mmsg\u001b[0m\u001b[0;34m.\u001b[0m\u001b[0merrno\u001b[0m\u001b[0;34m,\u001b[0m \u001b[0;34m\"could not open port {}: {}\"\u001b[0m\u001b[0;34m.\u001b[0m\u001b[0mformat\u001b[0m\u001b[0;34m(\u001b[0m\u001b[0mself\u001b[0m\u001b[0;34m.\u001b[0m\u001b[0m_port\u001b[0m\u001b[0;34m,\u001b[0m \u001b[0mmsg\u001b[0m\u001b[0;34m)\u001b[0m\u001b[0;34m)\u001b[0m\u001b[0;34m\u001b[0m\u001b[0;34m\u001b[0m\u001b[0m\n\u001b[0m\u001b[1;32m    326\u001b[0m         \u001b[0;31m#~ fcntl.fcntl(self.fd, fcntl.F_SETFL, 0)  # set blocking\u001b[0m\u001b[0;34m\u001b[0m\u001b[0;34m\u001b[0m\u001b[0;34m\u001b[0m\u001b[0m\n\u001b[1;32m    327\u001b[0m \u001b[0;34m\u001b[0m\u001b[0m\n",
      "\u001b[0;31mSerialException\u001b[0m: [Errno 2] could not open port /dev/ttyUSB0: [Errno 2] No such file or directory: '/dev/ttyUSB0'"
     ]
    }
   ],
   "source": [
    "arm = RoboticArm(Robot, COM_ID = '/dev/ttyUSB0')"
   ]
  },
  {
   "cell_type": "code",
   "execution_count": null,
   "metadata": {},
   "outputs": [],
   "source": [
    "arm.go_home()"
   ]
  },
  {
   "cell_type": "code",
   "execution_count": null,
   "metadata": {
    "scrolled": true
   },
   "outputs": [],
   "source": [
    "arm.set_position({1: 85, 2: 135+10, 3: 135+10, 4: 180+10, 5: 180+10, 6: 180, 7:135-20, 8:180+10, 9:180})"
   ]
  },
  {
   "cell_type": "code",
   "execution_count": null,
   "metadata": {},
   "outputs": [],
   "source": [
    "arm.set_position({1: 85, 2: 135, 3: 135, 4: 180, 5: 180, 6: 180, 7:135, 8:180, 9:180})"
   ]
  },
  {
   "cell_type": "code",
   "execution_count": null,
   "metadata": {
    "scrolled": false
   },
   "outputs": [],
   "source": [
    "arm.destruct()"
   ]
  },
  {
   "cell_type": "markdown",
   "metadata": {},
   "source": [
    "# ARM IK's model"
   ]
  },
  {
   "cell_type": "code",
   "execution_count": 3,
   "metadata": {},
   "outputs": [],
   "source": [
    "ik_model = viper300()"
   ]
  },
  {
   "cell_type": "code",
   "execution_count": 4,
   "metadata": {},
   "outputs": [
    {
     "name": "stdout",
     "output_type": "stream",
     "text": [
      "[0.567 0.418 0.    1.   ]\n"
     ]
    }
   ],
   "source": [
    "# EE position at zero configuration (all angles are zeroed)\n",
    "# Accoding to the IK model, the arm is poiting towards the x-axis, \n",
    "# y is upwards, and z is pointing at the chair\n",
    "print(ik_model.get_xyz_numeric([0,0,0,0,0]).T[0])"
   ]
  },
  {
   "cell_type": "code",
   "execution_count": 5,
   "metadata": {},
   "outputs": [],
   "source": [
    "# Offset angles for the physical arm in relative to the IK mpdel\n",
    "offset_relative_to_IK_Model = {1: 90, 2: 180, 3: 180, 4: 180, \n",
    "                               5: 180, 6: 0, 7: 180, 8: 0, 9: 0}\n",
    "\n",
    "def robot_to_model_position(robot_position):\n",
    "\n",
    "    return [     np.deg2rad(robot_position[1]-offset_relative_to_IK_Model[1]),\n",
    "            -1 * np.deg2rad(robot_position[2]-offset_relative_to_IK_Model[2]),\n",
    "            -1 * np.deg2rad(robot_position[4]-offset_relative_to_IK_Model[4]),\n",
    "                 np.deg2rad(robot_position[6]-offset_relative_to_IK_Model[6]),\n",
    "            -1 * np.deg2rad(robot_position[7]-offset_relative_to_IK_Model[7])]\n",
    "\n",
    "def model_to_robot_position(model_position):\n",
    "     \n",
    "    f = [ np.rad2deg(     model_position[0])+offset_relative_to_IK_Model[1],\n",
    "          np.rad2deg(-1 * model_position[1])+offset_relative_to_IK_Model[2],\n",
    "          np.rad2deg(-1 * model_position[2])+offset_relative_to_IK_Model[4],\n",
    "          np.rad2deg(     model_position[3])+offset_relative_to_IK_Model[6],\n",
    "          np.rad2deg(-1 * model_position[4])+offset_relative_to_IK_Model[7]]\n",
    "\n",
    "    return {1: int(f[0]), 2: int(f[1]), 3: int(f[1]), 4: int(f[2]),\n",
    "            5: int(f[2]), 6: int(f[3]), 7: int(f[4]), 8: 180, 9: 180}\n"
   ]
  },
  {
   "cell_type": "code",
   "execution_count": 6,
   "metadata": {},
   "outputs": [
    {
     "name": "stdout",
     "output_type": "stream",
     "text": [
      "{1: 85, 2: 135, 3: 135, 4: 180, 5: 180, 6: 180, 7: 135, 8: 180, 9: 180}\n"
     ]
    }
   ],
   "source": [
    "# EE position in the physical arm's configuration space\n",
    "print(Robot['Real']['Home'])"
   ]
  },
  {
   "cell_type": "code",
   "execution_count": 7,
   "metadata": {
    "scrolled": true
   },
   "outputs": [
    {
     "name": "stdout",
     "output_type": "stream",
     "text": [
      "[-0.08726646259971647, 0.7853981633974483, -0.0, 3.141592653589793, 0.7853981633974483]\n",
      "{1: 85, 2: 135, 3: 135, 4: 180, 5: 180, 6: 180, 7: 135, 8: 180, 9: 180}\n"
     ]
    }
   ],
   "source": [
    "# EE position in the model's configuration s pace\n",
    "home_chair = robot_to_model_position(Robot['Real']['Home'])\n",
    "print(home_chair)\n",
    "# Going back to the physical arm's configuration space\n",
    "print(model_to_robot_position(home_chair))"
   ]
  },
  {
   "cell_type": "code",
   "execution_count": 8,
   "metadata": {},
   "outputs": [
    {
     "data": {
      "text/plain": [
       "[0.24876904276084583, 0.5839833688019348, 0.02176447107776986, 1.0]"
      ]
     },
     "execution_count": 8,
     "metadata": {},
     "output_type": "execute_result"
    }
   ],
   "source": [
    "# EE position in the model's task space\n",
    "list(ik_model.get_xyz_numeric(home_chair).T[0])"
   ]
  },
  {
   "cell_type": "markdown",
   "metadata": {},
   "source": [
    "### ARM physical model"
   ]
  },
  {
   "cell_type": "code",
   "execution_count": 9,
   "metadata": {},
   "outputs": [
    {
     "name": "stdout",
     "output_type": "stream",
     "text": [
      "Arm model is specified at: /home/nbel/NBEL/alyn_project/Adaptive_arm_control/Adaptive_arm_control/arm_models/NBEL/NBEL.xml\n",
      "Creating window glfw\n"
     ]
    }
   ],
   "source": [
    "BASE_DIR = '/home/nbel/NBEL/alyn_project/Adaptive_arm_control/Adaptive_arm_control/'\n",
    "  \n",
    "model_name = 'NBEL'\n",
    "model      = Model(BASE_DIR + 'arm_models/{}/{}.xml'.format(model_name, model_name))\n",
    "controller = Controller(model)"
   ]
  },
  {
   "cell_type": "code",
   "execution_count": 10,
   "metadata": {},
   "outputs": [
    {
     "name": "stdout",
     "output_type": "stream",
     "text": [
      "{0: -0.08726646259971647, 1: -0.7853981633974483, 2: 0.0, 3: 3.141592653589793, 4: -0.7853981633974483}\n"
     ]
    }
   ],
   "source": [
    "## EE position in the physical model's configuration space\n",
    "p = [1, -1, -1, 1, -1] # y z z x z: accounting for direction of rotation\n",
    "q_dic = {i: p[i]*v for i, v in enumerate (home_chair)}\n",
    "print(q_dic)"
   ]
  },
  {
   "cell_type": "code",
   "execution_count": null,
   "metadata": {},
   "outputs": [],
   "source": [
    "## EE Position in the physical model's task space\n",
    "# Accoding to the physical model, the arm is poiting towards the y-axis, \n",
    "# z is upwards, and x is pointing at the chair\n",
    "model.goto_null_position()                                  # Goto reference position\n",
    "model.send_target_angles(q_dic)                             # Manipulate model\n",
    "c = model.get_ee_position()                                 # Current position\n",
    "model.visualize()\n",
    "print(c)"
   ]
  },
  {
   "cell_type": "code",
   "execution_count": 12,
   "metadata": {},
   "outputs": [
    {
     "name": "stdout",
     "output_type": "stream",
     "text": [
      "[0.29193356129715703, 0.584244686122927, 0.025542609855816446]\n"
     ]
    }
   ],
   "source": [
    "# Transforming EE position in the physical model's to the physical's arm task space\n",
    "TRx = np.array([[1,  0, 0],\n",
    "                [0,  0, 1],\n",
    "                [0, -1, 0]])\n",
    "\n",
    "TRz = np.array([[0,  1, 0],\n",
    "                [-1,  0, 0],\n",
    "                [0,  0, 1]])\n",
    "\n",
    "TRxz = np.dot(TRx, TRz)\n",
    "print(list(np.dot(TRxz, c)))"
   ]
  },
  {
   "cell_type": "markdown",
   "metadata": {},
   "source": [
    "### Arm manipulation"
   ]
  },
  {
   "cell_type": "code",
   "execution_count": 13,
   "metadata": {},
   "outputs": [],
   "source": [
    "# EE position in the model's configuration s pace\n",
    "home_chair = robot_to_model_position(Robot['Real']['Home'])\n",
    "J_x = ik_model.calc_J_numeric(home_chair) # Calculate the jacobian\n",
    "ux = [0.15, 0, 0.15]\n",
    "u = np.dot(np.linalg.pinv(J_x), ux)\n",
    "home_chair_m = home_chair + u"
   ]
  },
  {
   "cell_type": "code",
   "execution_count": 14,
   "metadata": {},
   "outputs": [
    {
     "name": "stdout",
     "output_type": "stream",
     "text": [
      "[0.24876904 0.58398337 0.02176447 1.        ]\n",
      "[0.35129445 0.55648986 0.21855412 1.        ]\n"
     ]
    }
   ],
   "source": [
    "print(ik_model.get_xyz_numeric(home_chair).T[0])\n",
    "print(ik_model.get_xyz_numeric(home_chair_m).T[0])"
   ]
  },
  {
   "cell_type": "code",
   "execution_count": 15,
   "metadata": {},
   "outputs": [
    {
     "name": "stdout",
     "output_type": "stream",
     "text": [
      "{1: 61, 2: 158, 3: 158, 4: 172, 5: 172, 6: 166, 7: 147, 8: 180, 9: 180}\n"
     ]
    }
   ],
   "source": [
    "# Going back to the physical arm's configuration space\n",
    "print(model_to_robot_position(home_chair_m))"
   ]
  },
  {
   "cell_type": "code",
   "execution_count": null,
   "metadata": {},
   "outputs": [],
   "source": []
  }
 ],
 "metadata": {
  "kernelspec": {
   "display_name": "Python 3",
   "language": "python",
   "name": "python3"
  },
  "language_info": {
   "codemirror_mode": {
    "name": "ipython",
    "version": 3
   },
   "file_extension": ".py",
   "mimetype": "text/x-python",
   "name": "python",
   "nbconvert_exporter": "python",
   "pygments_lexer": "ipython3",
   "version": "3.8.5"
  }
 },
 "nbformat": 4,
 "nbformat_minor": 4
}
